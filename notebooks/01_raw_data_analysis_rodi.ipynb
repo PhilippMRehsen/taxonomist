{
 "cells": [
  {
   "attachments": {},
   "cell_type": "markdown",
   "metadata": {},
   "source": [
    "This is an example notebook for raw data analysis on the RODI dataset\n",
    "\n",
    "The purpose of analyzing the raw dataset is to explore the raw dataset and describe the necessary cleaning steps that need to be performed in the preprocessing script"
   ]
  },
  {
   "cell_type": "code",
   "execution_count": 1,
   "metadata": {},
   "outputs": [],
   "source": [
    "from pathlib import Path\n",
    "import pandas as pd"
   ]
  },
  {
   "cell_type": "code",
   "execution_count": 2,
   "metadata": {},
   "outputs": [
    {
     "data": {
      "text/plain": [
       "PosixPath('../data/raw/rodi')"
      ]
     },
     "execution_count": 2,
     "metadata": {},
     "output_type": "execute_result"
    }
   ],
   "source": [
    "data_path = Path(\"..\", \"data\", \"raw\", \"rodi\")\n",
    "data_path"
   ]
  },
  {
   "attachments": {},
   "cell_type": "markdown",
   "metadata": {},
   "source": [
    "## Annotations"
   ]
  },
  {
   "cell_type": "code",
   "execution_count": 3,
   "metadata": {},
   "outputs": [
    {
     "data": {
      "text/html": [
       "<div>\n",
       "<style scoped>\n",
       "    .dataframe tbody tr th:only-of-type {\n",
       "        vertical-align: middle;\n",
       "    }\n",
       "\n",
       "    .dataframe tbody tr th {\n",
       "        vertical-align: top;\n",
       "    }\n",
       "\n",
       "    .dataframe thead th {\n",
       "        text-align: right;\n",
       "    }\n",
       "</style>\n",
       "<table border=\"1\" class=\"dataframe\">\n",
       "  <thead>\n",
       "    <tr style=\"text-align: right;\">\n",
       "      <th></th>\n",
       "      <th>id</th>\n",
       "      <th>annotation_id</th>\n",
       "      <th>class</th>\n",
       "      <th>order</th>\n",
       "      <th>family</th>\n",
       "      <th>image</th>\n",
       "      <th>ind_id</th>\n",
       "    </tr>\n",
       "  </thead>\n",
       "  <tbody>\n",
       "    <tr>\n",
       "      <th>0</th>\n",
       "      <td>1671</td>\n",
       "      <td>3596</td>\n",
       "      <td>Insecta</td>\n",
       "      <td>Ephemeroptera</td>\n",
       "      <td>Baetidae</td>\n",
       "      <td>11052022_T1_20025419_file12_frame96_box0_r.png</td>\n",
       "      <td>ID1</td>\n",
       "    </tr>\n",
       "    <tr>\n",
       "      <th>1</th>\n",
       "      <td>1672</td>\n",
       "      <td>3597</td>\n",
       "      <td>Insecta</td>\n",
       "      <td>Ephemeroptera</td>\n",
       "      <td>Baetidae</td>\n",
       "      <td>11052022_T1_20025419_file12_frame97_box0_r.png</td>\n",
       "      <td>ID1</td>\n",
       "    </tr>\n",
       "    <tr>\n",
       "      <th>2</th>\n",
       "      <td>1673</td>\n",
       "      <td>3598</td>\n",
       "      <td>Insecta</td>\n",
       "      <td>Ephemeroptera</td>\n",
       "      <td>Baetidae</td>\n",
       "      <td>11052022_T1_20025419_file12_frame98_box0_r.png</td>\n",
       "      <td>ID1</td>\n",
       "    </tr>\n",
       "    <tr>\n",
       "      <th>3</th>\n",
       "      <td>1674</td>\n",
       "      <td>3599</td>\n",
       "      <td>Insecta</td>\n",
       "      <td>Ephemeroptera</td>\n",
       "      <td>Baetidae</td>\n",
       "      <td>11052022_T1_20025419_file12_frame99_box0_r.png</td>\n",
       "      <td>ID1</td>\n",
       "    </tr>\n",
       "    <tr>\n",
       "      <th>4</th>\n",
       "      <td>1675</td>\n",
       "      <td>3600</td>\n",
       "      <td>Insecta</td>\n",
       "      <td>Ephemeroptera</td>\n",
       "      <td>Baetidae</td>\n",
       "      <td>11052022_T1_20025419_file12_frame100_box1_r.png</td>\n",
       "      <td>ID1</td>\n",
       "    </tr>\n",
       "    <tr>\n",
       "      <th>...</th>\n",
       "      <td>...</td>\n",
       "      <td>...</td>\n",
       "      <td>...</td>\n",
       "      <td>...</td>\n",
       "      <td>...</td>\n",
       "      <td>...</td>\n",
       "      <td>...</td>\n",
       "    </tr>\n",
       "    <tr>\n",
       "      <th>4593</th>\n",
       "      <td>325</td>\n",
       "      <td>2251</td>\n",
       "      <td>Insecta</td>\n",
       "      <td>Diptera</td>\n",
       "      <td>Diptera</td>\n",
       "      <td>11052022_T7_20025419_file30_frame386_box0_r.png</td>\n",
       "      <td>ID285</td>\n",
       "    </tr>\n",
       "    <tr>\n",
       "      <th>4594</th>\n",
       "      <td>326</td>\n",
       "      <td>2252</td>\n",
       "      <td>Insecta</td>\n",
       "      <td>Diptera</td>\n",
       "      <td>Diptera</td>\n",
       "      <td>11052022_T7_20025419_file30_frame387_box0_r.png</td>\n",
       "      <td>ID285</td>\n",
       "    </tr>\n",
       "    <tr>\n",
       "      <th>4595</th>\n",
       "      <td>327</td>\n",
       "      <td>2253</td>\n",
       "      <td>Insecta</td>\n",
       "      <td>Diptera</td>\n",
       "      <td>Diptera</td>\n",
       "      <td>11052022_T7_20025419_file30_frame388_box0_r.png</td>\n",
       "      <td>ID285</td>\n",
       "    </tr>\n",
       "    <tr>\n",
       "      <th>4596</th>\n",
       "      <td>328</td>\n",
       "      <td>2254</td>\n",
       "      <td>Insecta</td>\n",
       "      <td>Diptera</td>\n",
       "      <td>Diptera</td>\n",
       "      <td>11052022_T7_20025419_file30_frame389_box0_r.png</td>\n",
       "      <td>ID285</td>\n",
       "    </tr>\n",
       "    <tr>\n",
       "      <th>4597</th>\n",
       "      <td>329</td>\n",
       "      <td>2255</td>\n",
       "      <td>Insecta</td>\n",
       "      <td>Diptera</td>\n",
       "      <td>Diptera</td>\n",
       "      <td>11052022_T7_20025419_file30_frame390_box0_r.png</td>\n",
       "      <td>ID285</td>\n",
       "    </tr>\n",
       "  </tbody>\n",
       "</table>\n",
       "<p>4598 rows × 7 columns</p>\n",
       "</div>"
      ],
      "text/plain": [
       "        id  annotation_id    class          order    family  \\\n",
       "0     1671           3596  Insecta  Ephemeroptera  Baetidae   \n",
       "1     1672           3597  Insecta  Ephemeroptera  Baetidae   \n",
       "2     1673           3598  Insecta  Ephemeroptera  Baetidae   \n",
       "3     1674           3599  Insecta  Ephemeroptera  Baetidae   \n",
       "4     1675           3600  Insecta  Ephemeroptera  Baetidae   \n",
       "...    ...            ...      ...            ...       ...   \n",
       "4593   325           2251  Insecta        Diptera   Diptera   \n",
       "4594   326           2252  Insecta        Diptera   Diptera   \n",
       "4595   327           2253  Insecta        Diptera   Diptera   \n",
       "4596   328           2254  Insecta        Diptera   Diptera   \n",
       "4597   329           2255  Insecta        Diptera   Diptera   \n",
       "\n",
       "                                                image ind_id  \n",
       "0      11052022_T1_20025419_file12_frame96_box0_r.png    ID1  \n",
       "1      11052022_T1_20025419_file12_frame97_box0_r.png    ID1  \n",
       "2      11052022_T1_20025419_file12_frame98_box0_r.png    ID1  \n",
       "3      11052022_T1_20025419_file12_frame99_box0_r.png    ID1  \n",
       "4     11052022_T1_20025419_file12_frame100_box1_r.png    ID1  \n",
       "...                                               ...    ...  \n",
       "4593  11052022_T7_20025419_file30_frame386_box0_r.png  ID285  \n",
       "4594  11052022_T7_20025419_file30_frame387_box0_r.png  ID285  \n",
       "4595  11052022_T7_20025419_file30_frame388_box0_r.png  ID285  \n",
       "4596  11052022_T7_20025419_file30_frame389_box0_r.png  ID285  \n",
       "4597  11052022_T7_20025419_file30_frame390_box0_r.png  ID285  \n",
       "\n",
       "[4598 rows x 7 columns]"
      ]
     },
     "execution_count": 3,
     "metadata": {},
     "output_type": "execute_result"
    }
   ],
   "source": [
    "df = pd.read_csv(data_path / \"Induced_Organism_Drift_2022_annotations.csv\")\n",
    "df"
   ]
  },
  {
   "cell_type": "code",
   "execution_count": 4,
   "metadata": {},
   "outputs": [
    {
     "data": {
      "text/html": [
       "<div>\n",
       "<style scoped>\n",
       "    .dataframe tbody tr th:only-of-type {\n",
       "        vertical-align: middle;\n",
       "    }\n",
       "\n",
       "    .dataframe tbody tr th {\n",
       "        vertical-align: top;\n",
       "    }\n",
       "\n",
       "    .dataframe thead th {\n",
       "        text-align: right;\n",
       "    }\n",
       "</style>\n",
       "<table border=\"1\" class=\"dataframe\">\n",
       "  <thead>\n",
       "    <tr style=\"text-align: right;\">\n",
       "      <th></th>\n",
       "      <th>annotation_id</th>\n",
       "      <th>class</th>\n",
       "      <th>order</th>\n",
       "      <th>family</th>\n",
       "      <th>image</th>\n",
       "      <th>ind_id</th>\n",
       "    </tr>\n",
       "    <tr>\n",
       "      <th>id</th>\n",
       "      <th></th>\n",
       "      <th></th>\n",
       "      <th></th>\n",
       "      <th></th>\n",
       "      <th></th>\n",
       "      <th></th>\n",
       "    </tr>\n",
       "  </thead>\n",
       "  <tbody>\n",
       "    <tr>\n",
       "      <th>1671</th>\n",
       "      <td>3596</td>\n",
       "      <td>Insecta</td>\n",
       "      <td>Ephemeroptera</td>\n",
       "      <td>Baetidae</td>\n",
       "      <td>11052022_T1_20025419_file12_frame96_box0_r.png</td>\n",
       "      <td>ID1</td>\n",
       "    </tr>\n",
       "    <tr>\n",
       "      <th>1672</th>\n",
       "      <td>3597</td>\n",
       "      <td>Insecta</td>\n",
       "      <td>Ephemeroptera</td>\n",
       "      <td>Baetidae</td>\n",
       "      <td>11052022_T1_20025419_file12_frame97_box0_r.png</td>\n",
       "      <td>ID1</td>\n",
       "    </tr>\n",
       "    <tr>\n",
       "      <th>1673</th>\n",
       "      <td>3598</td>\n",
       "      <td>Insecta</td>\n",
       "      <td>Ephemeroptera</td>\n",
       "      <td>Baetidae</td>\n",
       "      <td>11052022_T1_20025419_file12_frame98_box0_r.png</td>\n",
       "      <td>ID1</td>\n",
       "    </tr>\n",
       "    <tr>\n",
       "      <th>1674</th>\n",
       "      <td>3599</td>\n",
       "      <td>Insecta</td>\n",
       "      <td>Ephemeroptera</td>\n",
       "      <td>Baetidae</td>\n",
       "      <td>11052022_T1_20025419_file12_frame99_box0_r.png</td>\n",
       "      <td>ID1</td>\n",
       "    </tr>\n",
       "    <tr>\n",
       "      <th>1675</th>\n",
       "      <td>3600</td>\n",
       "      <td>Insecta</td>\n",
       "      <td>Ephemeroptera</td>\n",
       "      <td>Baetidae</td>\n",
       "      <td>11052022_T1_20025419_file12_frame100_box1_r.png</td>\n",
       "      <td>ID1</td>\n",
       "    </tr>\n",
       "    <tr>\n",
       "      <th>...</th>\n",
       "      <td>...</td>\n",
       "      <td>...</td>\n",
       "      <td>...</td>\n",
       "      <td>...</td>\n",
       "      <td>...</td>\n",
       "      <td>...</td>\n",
       "    </tr>\n",
       "    <tr>\n",
       "      <th>325</th>\n",
       "      <td>2251</td>\n",
       "      <td>Insecta</td>\n",
       "      <td>Diptera</td>\n",
       "      <td>Diptera</td>\n",
       "      <td>11052022_T7_20025419_file30_frame386_box0_r.png</td>\n",
       "      <td>ID285</td>\n",
       "    </tr>\n",
       "    <tr>\n",
       "      <th>326</th>\n",
       "      <td>2252</td>\n",
       "      <td>Insecta</td>\n",
       "      <td>Diptera</td>\n",
       "      <td>Diptera</td>\n",
       "      <td>11052022_T7_20025419_file30_frame387_box0_r.png</td>\n",
       "      <td>ID285</td>\n",
       "    </tr>\n",
       "    <tr>\n",
       "      <th>327</th>\n",
       "      <td>2253</td>\n",
       "      <td>Insecta</td>\n",
       "      <td>Diptera</td>\n",
       "      <td>Diptera</td>\n",
       "      <td>11052022_T7_20025419_file30_frame388_box0_r.png</td>\n",
       "      <td>ID285</td>\n",
       "    </tr>\n",
       "    <tr>\n",
       "      <th>328</th>\n",
       "      <td>2254</td>\n",
       "      <td>Insecta</td>\n",
       "      <td>Diptera</td>\n",
       "      <td>Diptera</td>\n",
       "      <td>11052022_T7_20025419_file30_frame389_box0_r.png</td>\n",
       "      <td>ID285</td>\n",
       "    </tr>\n",
       "    <tr>\n",
       "      <th>329</th>\n",
       "      <td>2255</td>\n",
       "      <td>Insecta</td>\n",
       "      <td>Diptera</td>\n",
       "      <td>Diptera</td>\n",
       "      <td>11052022_T7_20025419_file30_frame390_box0_r.png</td>\n",
       "      <td>ID285</td>\n",
       "    </tr>\n",
       "  </tbody>\n",
       "</table>\n",
       "<p>4598 rows × 6 columns</p>\n",
       "</div>"
      ],
      "text/plain": [
       "      annotation_id    class          order    family  \\\n",
       "id                                                      \n",
       "1671           3596  Insecta  Ephemeroptera  Baetidae   \n",
       "1672           3597  Insecta  Ephemeroptera  Baetidae   \n",
       "1673           3598  Insecta  Ephemeroptera  Baetidae   \n",
       "1674           3599  Insecta  Ephemeroptera  Baetidae   \n",
       "1675           3600  Insecta  Ephemeroptera  Baetidae   \n",
       "...             ...      ...            ...       ...   \n",
       "325            2251  Insecta        Diptera   Diptera   \n",
       "326            2252  Insecta        Diptera   Diptera   \n",
       "327            2253  Insecta        Diptera   Diptera   \n",
       "328            2254  Insecta        Diptera   Diptera   \n",
       "329            2255  Insecta        Diptera   Diptera   \n",
       "\n",
       "                                                image ind_id  \n",
       "id                                                            \n",
       "1671   11052022_T1_20025419_file12_frame96_box0_r.png    ID1  \n",
       "1672   11052022_T1_20025419_file12_frame97_box0_r.png    ID1  \n",
       "1673   11052022_T1_20025419_file12_frame98_box0_r.png    ID1  \n",
       "1674   11052022_T1_20025419_file12_frame99_box0_r.png    ID1  \n",
       "1675  11052022_T1_20025419_file12_frame100_box1_r.png    ID1  \n",
       "...                                               ...    ...  \n",
       "325   11052022_T7_20025419_file30_frame386_box0_r.png  ID285  \n",
       "326   11052022_T7_20025419_file30_frame387_box0_r.png  ID285  \n",
       "327   11052022_T7_20025419_file30_frame388_box0_r.png  ID285  \n",
       "328   11052022_T7_20025419_file30_frame389_box0_r.png  ID285  \n",
       "329   11052022_T7_20025419_file30_frame390_box0_r.png  ID285  \n",
       "\n",
       "[4598 rows x 6 columns]"
      ]
     },
     "execution_count": 4,
     "metadata": {},
     "output_type": "execute_result"
    }
   ],
   "source": [
    "assert df.id.is_unique\n",
    "assert  df.image.is_unique\n",
    "df = df.set_index(\"id\")\n",
    "df"
   ]
  },
  {
   "cell_type": "code",
   "execution_count": 5,
   "metadata": {},
   "outputs": [
    {
     "data": {
      "text/plain": [
       "family\n",
       "Baetidae          1300\n",
       "Heptageniidae     1294\n",
       "Capniidae          731\n",
       "Rhyacophilidae     518\n",
       "Diptera            388\n",
       "Perlodidae         238\n",
       "Salmonidae         129\n",
       "Name: count, dtype: int64"
      ]
     },
     "execution_count": 5,
     "metadata": {},
     "output_type": "execute_result"
    }
   ],
   "source": [
    "df.family.value_counts()"
   ]
  },
  {
   "cell_type": "code",
   "execution_count": 6,
   "metadata": {},
   "outputs": [
    {
     "data": {
      "text/plain": [
       "count    285.000000\n",
       "mean      16.133333\n",
       "std        8.784777\n",
       "min        1.000000\n",
       "25%       11.000000\n",
       "50%       16.000000\n",
       "75%       19.000000\n",
       "max       66.000000\n",
       "Name: count, dtype: float64"
      ]
     },
     "execution_count": 6,
     "metadata": {},
     "output_type": "execute_result"
    }
   ],
   "source": [
    "df.ind_id.value_counts().describe()"
   ]
  },
  {
   "attachments": {},
   "cell_type": "markdown",
   "metadata": {},
   "source": [
    "## Images"
   ]
  },
  {
   "cell_type": "code",
   "execution_count": 7,
   "metadata": {},
   "outputs": [],
   "source": [
    "img_path = data_path / \"Induced_Organism_Drift_2022\""
   ]
  },
  {
   "cell_type": "code",
   "execution_count": 8,
   "metadata": {},
   "outputs": [
    {
     "data": {
      "text/plain": [
       "4598"
      ]
     },
     "execution_count": 8,
     "metadata": {},
     "output_type": "execute_result"
    }
   ],
   "source": [
    "fpaths = [x for x in img_path.glob(\"*.png\")]\n",
    "len(fpaths)"
   ]
  },
  {
   "cell_type": "code",
   "execution_count": 9,
   "metadata": {},
   "outputs": [],
   "source": [
    "fnames = [x.name for x in fpaths]"
   ]
  },
  {
   "cell_type": "code",
   "execution_count": 10,
   "metadata": {},
   "outputs": [
    {
     "data": {
      "text/plain": [
       "True"
      ]
     },
     "execution_count": 10,
     "metadata": {},
     "output_type": "execute_result"
    }
   ],
   "source": [
    "# Check all images are in dataset\n",
    "set(fnames) == set(df.image.values)"
   ]
  },
  {
   "cell_type": "code",
   "execution_count": null,
   "metadata": {},
   "outputs": [],
   "source": []
  }
 ],
 "metadata": {
  "kernelspec": {
   "display_name": "Python 3 (ipykernel)",
   "language": "python",
   "name": "python3"
  },
  "language_info": {
   "codemirror_mode": {
    "name": "ipython",
    "version": 3
   },
   "file_extension": ".py",
   "mimetype": "text/x-python",
   "name": "python",
   "nbconvert_exporter": "python",
   "pygments_lexer": "ipython3",
   "version": "3.9.18"
  }
 },
 "nbformat": 4,
 "nbformat_minor": 4
}
